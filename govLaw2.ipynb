{
  "nbformat": 4,
  "nbformat_minor": 0,
  "metadata": {
    "colab": {
      "provenance": [],
      "authorship_tag": "ABX9TyO9SNgQPe80PNrDk4g8qwkr",
      "include_colab_link": true
    },
    "kernelspec": {
      "name": "python3",
      "display_name": "Python 3"
    },
    "language_info": {
      "name": "python"
    }
  },
  "cells": [
    {
      "cell_type": "markdown",
      "metadata": {
        "id": "view-in-github",
        "colab_type": "text"
      },
      "source": [
        "<a href=\"https://colab.research.google.com/github/ManjuRama/FinMath/blob/main/govLaw2.ipynb\" target=\"_parent\"><img src=\"https://colab.research.google.com/assets/colab-badge.svg\" alt=\"Open In Colab\"/></a>"
      ]
    },
    {
      "cell_type": "code",
      "execution_count": null,
      "metadata": {
        "id": "dNW59UFHFC_1"
      },
      "outputs": [],
      "source": [
        "import pandas as pd\n",
        "\n",
        "# Sample ISDA agreement data\n",
        "data = {\n",
        "    \"file_name\": [\"file1\", \"file2\", \"file3\", \"file4\", \"file5\"],\n",
        "    \"category\": [\"ISDA\", \"Amendment\", \"ISDA\", \"Amendment\", \"Amendment\"],\n",
        "    \"date\": [\"2023-05-01\", \"2023-06-15\", \"2023-04-01\", \"2023-07-20\", \"2023-08-01\"],\n",
        "    \"date_of_original_agreement\": [None, \"2023-05-01\", None, \"2023-04-01\", \"2023-04-01\"],\n",
        "    \"summary\": [\n",
        "        \"Initial agreement signed.\",\n",
        "        \"Governing Law changed to NY law.\",\n",
        "        \"Another agreement signed.\",\n",
        "        \"Governing Law changed to UK law.\",\n",
        "        \"Governing Law changed to EU law.\"\n",
        "    ],\n",
        "    \"gov_law\": [\"US law\", \"NY law\", \"UK law\", \"UK law\", \"EU law\"]\n",
        "}\n",
        "\n",
        "# Create a DataFrame\n",
        "df = pd.DataFrame(data)\n",
        "\n",
        "# Convert dates to datetime for easier processing\n",
        "df['date'] = pd.to_datetime(df['date'])\n",
        "df['date_of_original_agreement'] = pd.to_datetime(df['date_of_original_agreement'], errors='coerce')\n",
        "\n",
        "# Function to find the most recent amendment for each original agreement\n",
        "def update_gov_law(df):\n",
        "    # Group amendments by their original agreement date\n",
        "    amendments = df[df['category'] == \"Amendment\"]\n",
        "\n",
        "    # Keep the most recent amendment for each original agreement\n",
        "    most_recent_amendments = (\n",
        "        amendments\n",
        "        .sort_values(by=\"date\", ascending=False)  # Sort by date descending\n",
        "        .groupby(\"date_of_original_agreement\")\n",
        "        .first()  # Take the most recent amendment for each original agreement\n",
        "    )\n",
        "\n",
        "    # Apply changes to the original agreements\n",
        "    for original_date, amendment_row in most_recent_amendments.iterrows():\n",
        "        if pd.notna(original_date):\n",
        "            # Find the original agreement\n",
        "            original_agreement = df[\n",
        "                (df['date'] == original_date) &\n",
        "                (df['category'] == \"ISDA\")\n",
        "            ]\n",
        "            if not original_agreement.empty:\n",
        "                original_index = original_agreement.index[0]\n",
        "                # Update the original agreement's governing law using 'gov_law' of the most recent amendment\n",
        "                df.at[original_index, 'final_gov_law'] = amendment_row['gov_law']\n",
        "\n",
        "# Initialize the new column with existing governing law\n",
        "df['final_gov_law'] = df['gov_law']\n",
        "\n",
        "# Apply the update function\n",
        "update_gov_law(df)\n",
        "\n",
        "# Fill NaN in final_gov_law (if any) with placeholders\n",
        "df['final_gov_law'] = df['final_gov_law'].fillna(\"No Change\")\n",
        "\n",
        "# Display the updated DataFrame\n",
        "print(df)\n"
      ]
    }
  ]
}