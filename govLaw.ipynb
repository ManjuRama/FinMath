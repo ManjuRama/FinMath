{
  "nbformat": 4,
  "nbformat_minor": 0,
  "metadata": {
    "colab": {
      "provenance": [],
      "authorship_tag": "ABX9TyOHdYUgnmO9XaevP1P4rNCE",
      "include_colab_link": true
    },
    "kernelspec": {
      "name": "python3",
      "display_name": "Python 3"
    },
    "language_info": {
      "name": "python"
    }
  },
  "cells": [
    {
      "cell_type": "markdown",
      "metadata": {
        "id": "view-in-github",
        "colab_type": "text"
      },
      "source": [
        "<a href=\"https://colab.research.google.com/github/ManjuRama/FinMath/blob/main/govLaw.ipynb\" target=\"_parent\"><img src=\"https://colab.research.google.com/assets/colab-badge.svg\" alt=\"Open In Colab\"/></a>"
      ]
    },
    {
      "cell_type": "code",
      "execution_count": null,
      "metadata": {
        "id": "dNW59UFHFC_1"
      },
      "outputs": [],
      "source": [
        "import pandas as pd\n",
        "\n",
        "# Sample ISDA agreement data\n",
        "data = {\n",
        "    \"file_name\": [\"file1\", \"file2\", \"file3\", \"file4\"],\n",
        "    \"category\": [\"ISDA\", \"Amendment\", \"ISDA\", \"Amendment\"],\n",
        "    \"date\": [\"2023-05-01\", \"2023-06-15\", \"2023-04-01\", \"2023-07-20\"],\n",
        "    \"date_of_original_agreement\": [None, \"2023-05-01\", None, \"2023-04-01\"],\n",
        "    \"summary\": [\n",
        "        \"Initial agreement signed.\",\n",
        "        \"Governing Law changed to NY law.\",\n",
        "        \"Another agreement signed.\",\n",
        "        \"Governing Law changed to UK law.\"\n",
        "    ],\n",
        "}\n",
        "\n",
        "# Create a DataFrame\n",
        "df = pd.DataFrame(data)\n",
        "\n",
        "# Convert dates to datetime for easier processing\n",
        "df['date'] = pd.to_datetime(df['date'])\n",
        "df['date_of_original_agreement'] = pd.to_datetime(df['date_of_original_agreement'], errors='coerce')\n",
        "\n",
        "# Function to extract governing law from summary\n",
        "def extract_governing_law(summary):\n",
        "    if \"Governing Law changed to\" in summary:\n",
        "        return summary.split(\"Governing Law changed to\")[1].strip().rstrip(\".\")\n",
        "    return None\n",
        "\n",
        "# Add a new column for the governing law update\n",
        "df['new_governing_law'] = df['summary'].apply(extract_governing_law)\n",
        "\n",
        "# Identify and update the original agreement\n",
        "def update_governing_law(row, df):\n",
        "    if pd.notna(row['date_of_original_agreement']):\n",
        "        # Find the original agreement\n",
        "        original_agreement = df[\n",
        "            (df['date'] == row['date_of_original_agreement']) &\n",
        "            (df['category'] == \"ISDA\")\n",
        "        ]\n",
        "        if not original_agreement.empty:\n",
        "            original_index = original_agreement.index[0]\n",
        "            # Update the original agreement's governing law\n",
        "            df.at[original_index, 'final_gov_law'] = row['new_governing_law']\n",
        "\n",
        "# Initialize the new column\n",
        "df['final_gov_law'] = None\n",
        "\n",
        "# Process each row with 'Governing Law changed'\n",
        "df.apply(lambda row: update_governing_law(row, df), axis=1)\n",
        "\n",
        "# Fill NaN in final_gov_law with placeholders\n",
        "df['final_gov_law'] = df['final_gov_law'].fillna(\"No Change\")\n",
        "\n",
        "# Display the updated DataFrame\n",
        "print(df)\n"
      ]
    }
  ]
}