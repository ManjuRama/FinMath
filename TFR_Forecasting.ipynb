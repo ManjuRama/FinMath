{
  "nbformat": 4,
  "nbformat_minor": 0,
  "metadata": {
    "colab": {
      "provenance": [],
      "authorship_tag": "ABX9TyMJTJ5O2fIeuiECO9NpPLZY",
      "include_colab_link": true
    },
    "kernelspec": {
      "name": "python3",
      "display_name": "Python 3"
    },
    "language_info": {
      "name": "python"
    }
  },
  "cells": [
    {
      "cell_type": "markdown",
      "metadata": {
        "id": "view-in-github",
        "colab_type": "text"
      },
      "source": [
        "<a href=\"https://colab.research.google.com/github/ManjuRama/FinMath/blob/main/TFR_Forecasting.ipynb\" target=\"_parent\"><img src=\"https://colab.research.google.com/assets/colab-badge.svg\" alt=\"Open In Colab\"/></a>"
      ]
    },
    {
      "cell_type": "code",
      "execution_count": null,
      "metadata": {
        "id": "M8z8OjjlwQxj"
      },
      "outputs": [],
      "source": [
        "n_hours = 24  # Number of past hours to use for predicting the next hour\n",
        "\n",
        "# Define the sliding window function for time series data\n",
        "def create_sequences(df, n_hours):\n",
        "    X = []\n",
        "    y = []\n",
        "    for i in range(len(df) - n_hours):\n",
        "        X.append(df.iloc[i:i+n_hours].values)  # n_hours past records as input\n",
        "        y.append(df.iloc[i+n_hours]['Adj. Close'])  # Next hour's 'Adj. Close' as target\n",
        "    return np.array(X), np.array(y)\n",
        "\n",
        "# Prepare input features and target variables for training\n",
        "X_train_data, y_train_data = create_sequences(df_train, n_hours)\n",
        "\n",
        "# Convert to PyTorch tensors\n",
        "X_train = torch.tensor(X_train_data).float()\n",
        "y_train = torch.tensor(y_train_data).float().unsqueeze(1)  # Shape (batch_size, 1)\n",
        "\n",
        "# Update DataLoader to handle sequence data (batch_size, seq_len, num_features)\n",
        "train_dataset = TensorDataset(X_train, y_train)\n",
        "train_loader = DataLoader(train_dataset, batch_size=32, shuffle=True)"
      ]
    },
    {
      "cell_type": "code",
      "source": [
        "class TransformerModel(nn.Module):\n",
        "    def __init__(self, num_tickers, embedding_dim, num_heads, ff_dim):\n",
        "        super(TransformerModel, self).__init__()\n",
        "\n",
        "        # Embedding for ticker\n",
        "        self.ticker_embedding = nn.Embedding(num_tickers, embedding_dim)\n",
        "\n",
        "        # Multi-Head Attention layer for sequence input\n",
        "        self.multihead_attn = nn.MultiheadAttention(embed_dim=embedding_dim, num_heads=num_heads, batch_first=True)\n",
        "\n",
        "        # Feed Forward Network\n",
        "        self.ffn = nn.Sequential(\n",
        "            nn.Linear(embedding_dim, ff_dim),\n",
        "            nn.ReLU(),\n",
        "            nn.Linear(ff_dim, embedding_dim)\n",
        "        )\n",
        "\n",
        "        # Layer normalization\n",
        "        self.layer_norm1 = nn.LayerNorm(embedding_dim)\n",
        "        self.layer_norm2 = nn.LayerNorm(embedding_dim)\n",
        "\n",
        "        # Final output layer for regression ('Adj. Close')\n",
        "        self.output_layer = nn.Linear(embedding_dim, 1)\n",
        "\n",
        "    def forward(self, inputs):\n",
        "        # Inputs is now a sequence of shape (batch_size, seq_len, num_features)\n",
        "        ticker_input = inputs[:, :, 0].long()  # Assuming ticker is the first feature in sequence\n",
        "        non_ticker_inputs = inputs[:, :, 1:]  # The rest of the features\n",
        "\n",
        "        # Embedding for ticker\n",
        "        ticker_embedded = self.ticker_embedding(ticker_input)  # Shape: (batch_size, seq_len, embedding_dim)\n",
        "\n",
        "        # Combine ticker embedding with other inputs\n",
        "        combined_input = torch.cat([ticker_embedded, non_ticker_inputs], dim=2)  # Shape: (batch_size, seq_len, embedding_dim + other features)\n",
        "\n",
        "        # Multi-head attention over the sequence\n",
        "        attn_output, _ = self.multihead_attn(combined_input, combined_input, combined_input)\n",
        "\n",
        "        # Add & normalize\n",
        "        attn_output = self.layer_norm1(attn_output + combined_input)\n",
        "\n",
        "        # Feed-forward network\n",
        "        ffn_output = self.ffn(attn_output)\n",
        "\n",
        "        # Add & normalize\n",
        "        transformer_output = self.layer_norm2(ffn_output + attn_output)\n",
        "\n",
        "        # Take the output corresponding to the last hour in the sequence for final prediction\n",
        "        output = transformer_output[:, -1, :]  # Shape: (batch_size, embedding_dim)\n",
        "        output = self.output_layer(output)  # Shape: (batch_size, 1)\n",
        "\n",
        "        return output\n"
      ],
      "metadata": {
        "id": "bnBvJAFGInkh"
      },
      "execution_count": null,
      "outputs": []
    },
    {
      "cell_type": "code",
      "source": [
        "# Training loop\n",
        "def train_model(model, train_loader, criterion, optimizer, num_epochs=10):\n",
        "    model.train()\n",
        "    for epoch in range(num_epochs):\n",
        "        running_loss = 0.0\n",
        "        for inputs, targets in train_loader:\n",
        "            # Forward pass\n",
        "            optimizer.zero_grad()\n",
        "            outputs = model(inputs)\n",
        "            loss = criterion(outputs, targets)\n",
        "\n",
        "            # Backward pass and optimization\n",
        "            loss.backward()\n",
        "            optimizer.step()\n",
        "\n",
        "            running_loss += loss.item()\n",
        "\n",
        "        print(f'Epoch [{epoch+1}/{num_epochs}], Loss: {running_loss/len(train_loader):.4f}')\n"
      ],
      "metadata": {
        "id": "yXRJYwd8Iq2o"
      },
      "execution_count": null,
      "outputs": []
    },
    {
      "cell_type": "code",
      "source": [
        "# Prepare test data similarly using the sliding window approach\n",
        "X_test_data, y_test_data = create_sequences(df_test, n_hours)\n",
        "\n",
        "# Convert to PyTorch tensors\n",
        "X_test = torch.tensor(X_test_data).float()\n",
        "y_test = torch.tensor(y_test_data).float().unsqueeze(1)\n",
        "\n",
        "# Create test DataLoader\n",
        "test_dataset = TensorDataset(X_test, y_test)\n",
        "test_loader = DataLoader(test_dataset, batch_size=32, shuffle=False)\n",
        "\n",
        "# Forecasting the next hour\n",
        "model.eval()\n",
        "with torch.no_grad():\n",
        "    y_pred_list = []\n",
        "    for inputs, _ in test_loader:\n",
        "        outputs = model(inputs)\n",
        "        y_pred_list.append(outputs)\n",
        "\n",
        "    y_pred = torch.cat(y_pred_list).numpy()\n",
        "\n",
        "# Calculate MSE for the test set\n",
        "mse = mean_squared_error(y_test.numpy(), y_pred)\n",
        "print(\"Test Loss (MSE):\", mse)\n"
      ],
      "metadata": {
        "id": "br3KiFKPItjx"
      },
      "execution_count": null,
      "outputs": []
    }
  ]
}