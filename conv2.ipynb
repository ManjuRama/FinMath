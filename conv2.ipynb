{
  "nbformat": 4,
  "nbformat_minor": 0,
  "metadata": {
    "colab": {
      "provenance": [],
      "authorship_tag": "ABX9TyOEmKaLleCZqU2KF7i5R7k+",
      "include_colab_link": true
    },
    "kernelspec": {
      "name": "python3",
      "display_name": "Python 3"
    },
    "language_info": {
      "name": "python"
    }
  },
  "cells": [
    {
      "cell_type": "markdown",
      "metadata": {
        "id": "view-in-github",
        "colab_type": "text"
      },
      "source": [
        "<a href=\"https://colab.research.google.com/github/ManjuRama/FinMath/blob/main/conv2.ipynb\" target=\"_parent\"><img src=\"https://colab.research.google.com/assets/colab-badge.svg\" alt=\"Open In Colab\"/></a>"
      ]
    },
    {
      "cell_type": "code",
      "execution_count": null,
      "metadata": {
        "id": "4-qhtQnZygUn"
      },
      "outputs": [],
      "source": [
        "Dim objFSO, objFolder, objFile, objWord, outputFilePath\n",
        "Dim inputFolder\n",
        "\n",
        "' Set the input folder containing .doc files\n",
        "inputFolder = \"C:\\path\\to\\your\\doc\\files\" ' Replace with the actual directory path\n",
        "\n",
        "' Create File System Object\n",
        "Set objFSO = CreateObject(\"Scripting.FileSystemObject\")\n",
        "\n",
        "' Check if the input folder exists\n",
        "If objFSO.FolderExists(inputFolder) Then\n",
        "    ' Get the folder object\n",
        "    Set objFolder = objFSO.GetFolder(inputFolder)\n",
        "\n",
        "    ' Create a new instance of Microsoft Word\n",
        "    Set objWord = CreateObject(\"Word.Application\")\n",
        "    objWord.Visible = False ' Run Word in the background\n",
        "\n",
        "    ' Iterate over each .doc file in the folder\n",
        "    For Each objFile In objFolder.Files\n",
        "        If LCase(objFSO.GetExtensionName(objFile.Name)) = \"doc\" Then\n",
        "            ' Define the path for the output PDF\n",
        "            outputFilePath = objFSO.BuildPath(inputFolder, objFSO.GetBaseName(objFile.Name) & \".pdf\")\n",
        "\n",
        "            ' Open the .doc file in Word\n",
        "            Set doc = objWord.Documents.Open(objFile.Path)\n",
        "\n",
        "            ' Save the document as PDF (17 is the file format for PDF)\n",
        "            doc.SaveAs2 outputFilePath, 17\n",
        "\n",
        "            ' Close the document\n",
        "            doc.Close False\n",
        "            WScript.Echo \"Converted \" & objFile.Name & \" to PDF.\"\n",
        "        End If\n",
        "    Next\n",
        "\n",
        "    ' Quit Word application\n",
        "    objWord.Quit\n",
        "    Set objWord = Nothing\n",
        "Else\n",
        "    WScript.Echo \"The specified folder does not exist.\"\n",
        "End If\n",
        "\n",
        "' Clean up\n",
        "Set objFSO = Nothing\n",
        "Set objFolder = Nothing"
      ]
    }
  ]
}