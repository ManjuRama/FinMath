{
  "nbformat": 4,
  "nbformat_minor": 0,
  "metadata": {
    "colab": {
      "provenance": [],
      "authorship_tag": "ABX9TyMU8eCRh3cKGm/ScBzp60Kf",
      "include_colab_link": true
    },
    "kernelspec": {
      "name": "python3",
      "display_name": "Python 3"
    },
    "language_info": {
      "name": "python"
    }
  },
  "cells": [
    {
      "cell_type": "markdown",
      "metadata": {
        "id": "view-in-github",
        "colab_type": "text"
      },
      "source": [
        "<a href=\"https://colab.research.google.com/github/ManjuRama/FinMath/blob/main/NV3.ipynb\" target=\"_parent\"><img src=\"https://colab.research.google.com/assets/colab-badge.svg\" alt=\"Open In Colab\"/></a>"
      ]
    },
    {
      "cell_type": "code",
      "execution_count": null,
      "metadata": {
        "id": "cz1PnRtcDHSD"
      },
      "outputs": [],
      "source": [
        "import pandas as pd\n",
        "\n",
        "# Define the file path\n",
        "file_path = \"your_file.txt\"  # Replace with the actual file path\n",
        "\n",
        "# Initialize list to store rows of data and variables for tracking the current row\n",
        "data_rows = []\n",
        "current_row = {}\n",
        "current_name = None\n",
        "in_footer_section = False\n",
        "\n",
        "# Open and read the file\n",
        "with open(file_path, 'r') as file:\n",
        "    for line in file:\n",
        "        line = line.strip()\n",
        "\n",
        "        # If the line does not contain a colon, we can ignore it as a header/footer\n",
        "        if ':' not in line:\n",
        "            # Check if we are already in a footer section, indicating the end of a data segment\n",
        "            if in_footer_section:\n",
        "                continue\n",
        "            # This is a line without a colon, so ignore it as it's not a name-value pair\n",
        "            continue\n",
        "\n",
        "        # If a new ISIN is encountered, start a new row\n",
        "        if line.startswith(\"ISIN:\"):\n",
        "            # Save the current row to the data list if it has data\n",
        "            if current_row:\n",
        "                data_rows.append(current_row)\n",
        "\n",
        "            # Reset for the new ISIN row\n",
        "            current_row = {}\n",
        "            in_footer_section = False\n",
        "\n",
        "            # Capture the ISIN value for the new row\n",
        "            _, value = line.split(\":\", 1)\n",
        "            current_row[\"ISIN\"] = value.strip()\n",
        "            continue  # Move to the next line\n",
        "\n",
        "        # Split the line at the first colon to capture name-value pairs\n",
        "        if ':' in line and not in_footer_section:\n",
        "            name, value = line.split(\":\", 1)\n",
        "            name = name.strip()\n",
        "            value = value.strip()\n",
        "\n",
        "            # Start collecting value under this name if it's a new attribute\n",
        "            current_name = name\n",
        "            current_row[current_name] = value\n",
        "        else:\n",
        "            # Handle continuation lines by appending to the last known attribute\n",
        "            if current_name and current_row.get(current_name) is not None:\n",
        "                current_row[current_name] += ' ' + line.strip()\n",
        "\n",
        "    # Append the last row if it exists\n",
        "    if current_row:\n",
        "        data_rows.append(current_row)\n",
        "\n",
        "# Convert the list of rows into a DataFrame\n",
        "df = pd.DataFrame(data_rows)\n",
        "\n",
        "# Display the DataFrame\n",
        "print(df)\n"
      ]
    }
  ]
}