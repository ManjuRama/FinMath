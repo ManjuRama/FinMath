{
  "nbformat": 4,
  "nbformat_minor": 0,
  "metadata": {
    "colab": {
      "provenance": [],
      "authorship_tag": "ABX9TyOn6++C8V6mXf61Lk+SQvJr",
      "include_colab_link": true
    },
    "kernelspec": {
      "name": "python3",
      "display_name": "Python 3"
    },
    "language_info": {
      "name": "python"
    }
  },
  "cells": [
    {
      "cell_type": "markdown",
      "metadata": {
        "id": "view-in-github",
        "colab_type": "text"
      },
      "source": [
        "<a href=\"https://colab.research.google.com/github/ManjuRama/FinMath/blob/main/RandomRegressor.ipynb\" target=\"_parent\"><img src=\"https://colab.research.google.com/assets/colab-badge.svg\" alt=\"Open In Colab\"/></a>"
      ]
    },
    {
      "cell_type": "code",
      "execution_count": null,
      "metadata": {
        "id": "k0Sxvrcnx6gS"
      },
      "outputs": [],
      "source": [
        "import pandas as pd\n",
        "import numpy as np\n",
        "from sklearn.ensemble import RandomForestRegressor\n",
        "from sklearn.metrics import mean_squared_error\n",
        "import matplotlib.pyplot as plt\n",
        "\n",
        "# Example DataFrame: Ensure your real dataset is properly loaded\n",
        "# df = pd.read_csv('your_dataset.csv')\n",
        "\n",
        "# Generate synthetic data for demonstration purposes\n",
        "np.random.seed(42)\n",
        "n = 1440  # 1 day of minute-by-minute data (60 * 24 = 1440 minutes)\n",
        "data = {\n",
        "    'volumelastminute': np.random.rand(n) * 100,\n",
        "    'volumelasthour': np.random.rand(n) * 500,\n",
        "    'spread': np.random.rand(n) * 5,\n",
        "    'midprice': np.random.rand(n) * 1000,\n",
        "    'nexthourvolume': np.random.rand(n) * 600\n",
        "}\n",
        "df = pd.DataFrame(data)\n",
        "\n",
        "# Rolling window size: 60 minutes\n",
        "window_size = 60\n",
        "\n",
        "# Function to generate rolling window features for prediction\n",
        "def generate_rolling_features(df, window_size):\n",
        "    features = pd.DataFrame(index=df.index[window_size:])\n",
        "\n",
        "    # Create rolling averages for the last 60 minutes for each feature\n",
        "    features['volumelastminute_avg'] = df['volumelastminute'].rolling(window=window_size).mean().shift(1)\n",
        "    features['volumelasthour_avg'] = df['volumelasthour'].rolling(window=window_size).mean().shift(1)\n",
        "    features['spread_avg'] = df['spread'].rolling(window=window_size).mean().shift(1)\n",
        "    features['midprice_avg'] = df['midprice'].rolling(window=window_size).mean().shift(1)\n",
        "\n",
        "    # Drop NaN values (as the first 60 rows will not have rolling averages)\n",
        "    features = features.dropna()\n",
        "\n",
        "    return features\n",
        "\n",
        "# Generate the rolling features\n",
        "rolling_features = generate_rolling_features(df, window_size)\n",
        "\n",
        "# The target variable (shifted by 60 minutes, because we want to predict the next hour's volume)\n",
        "rolling_target = df['nexthourvolume'].shift(-60).dropna()\n",
        "\n",
        "# Align the target with the features (since they are shifted differently)\n",
        "rolling_features = rolling_features.loc[rolling_target.index]\n",
        "\n",
        "# Split data into training and testing sets (80% train, 20% test)\n",
        "train_size = int(len(rolling_features) * 0.8)\n",
        "X_train = rolling_features[:train_size]\n",
        "y_train = rolling_target[:train_size]\n",
        "X_test = rolling_features[train_size:]\n",
        "y_test = rolling_target[train_size:]\n",
        "\n",
        "# Fit a regression model (e.g., RandomForestRegressor)\n",
        "model = RandomForestRegressor(n_estimators=100, random_state=42)\n",
        "model.fit(X_train, y_train)\n",
        "\n",
        "# Make predictions\n",
        "y_pred = model.predict(X_test)\n",
        "\n",
        "# Evaluate the model using Mean Squared Error (MSE)\n",
        "mse = mean_squared_error(y_test, y_pred)\n",
        "print(f\"Mean Squared Error: {mse}\")\n",
        "\n",
        "# Plot actual vs predicted values for the test set\n",
        "plt.figure(figsize=(10, 6))\n",
        "plt.plot(y_test.index, y_test, label='Actual nexthourvolume', color='blue')\n",
        "plt.plot(y_test.index, y_pred, label='Predicted nexthourvolume', color='red')\n",
        "plt.xlabel('Time')\n",
        "plt.ylabel('nexthourvolume')\n",
        "plt.title('Actual vs Predicted nexthourvolume')\n",
        "plt.legend()\n",
        "plt.show()\n"
      ]
    }
  ]
}