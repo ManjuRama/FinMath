{
  "nbformat": 4,
  "nbformat_minor": 0,
  "metadata": {
    "colab": {
      "provenance": [],
      "authorship_tag": "ABX9TyPTs34wIfSz23pWTmpY5LR5",
      "include_colab_link": true
    },
    "kernelspec": {
      "name": "python3",
      "display_name": "Python 3"
    },
    "language_info": {
      "name": "python"
    }
  },
  "cells": [
    {
      "cell_type": "markdown",
      "metadata": {
        "id": "view-in-github",
        "colab_type": "text"
      },
      "source": [
        "<a href=\"https://colab.research.google.com/github/ManjuRama/FinMath/blob/main/NV4.ipynb\" target=\"_parent\"><img src=\"https://colab.research.google.com/assets/colab-badge.svg\" alt=\"Open In Colab\"/></a>"
      ]
    },
    {
      "cell_type": "code",
      "execution_count": null,
      "metadata": {
        "id": "cz1PnRtcDHSD"
      },
      "outputs": [],
      "source": [
        "import pandas as pd\n",
        "import re\n",
        "\n",
        "# Define the file path\n",
        "file_path = \"your_file.txt\"  # Replace with your actual file path\n",
        "\n",
        "# Initialize list to store rows of data and variables for tracking the current row\n",
        "data_rows = []\n",
        "current_row = {}\n",
        "current_name = None\n",
        "in_footer_section = False\n",
        "\n",
        "# Regular expression pattern to capture numbered name-value pairs (e.g., '1. ISIN: ABCDEFG')\n",
        "pattern = re.compile(r'^\\d+\\.\\s*(\\w+):\\s*(.*)')\n",
        "\n",
        "# Open and read the file\n",
        "with open(file_path, 'r') as file:\n",
        "    for line in file:\n",
        "        line = line.strip()\n",
        "\n",
        "        # Skip lines without a colon, assuming they are headers or footers\n",
        "        if ':' not in line:\n",
        "            # If we're already in the footer section, skip these lines\n",
        "            if in_footer_section:\n",
        "                continue\n",
        "            # Otherwise, ignore this line as it's not a valid name-value pair\n",
        "            continue\n",
        "\n",
        "        # Match the line with the regular expression pattern to extract the name and value\n",
        "        match = pattern.match(line)\n",
        "        if match:\n",
        "            # Extract the attribute name and value\n",
        "            name, value = match.groups()\n",
        "            name = name.strip()\n",
        "            value = value.strip()\n",
        "\n",
        "            # If we encounter an 'ISIN', it signals the start of a new row\n",
        "            if name == \"ISIN\":\n",
        "                # If there's an existing row with data, add it to data_rows\n",
        "                if current_row:\n",
        "                    data_rows.append(current_row)\n",
        "\n",
        "                # Reset for a new ISIN section\n",
        "                current_row = {\"ISIN\": value}\n",
        "                current_name = \"ISIN\"\n",
        "                in_footer_section = False  # Reset footer section flag\n",
        "            else:\n",
        "                # Add the name-value pair to the current row\n",
        "                current_row[name] = value\n",
        "                current_name = name\n",
        "        else:\n",
        "            # If the line does not match the pattern but contains text, it’s a continuation line\n",
        "            if current_name and current_name in current_row:\n",
        "                # Append the continuation line to the current attribute's value\n",
        "                current_row[current_name] += ' ' + line.strip()\n",
        "\n",
        "        # Check for a footer section after encountering ISIN and other attributes\n",
        "        if line.lower().startswith(\"footer\") or not match:\n",
        "            in_footer_section = True\n",
        "\n",
        "    # Add the last row if it has data\n",
        "    if current_row:\n",
        "        data_rows.append(current_row)\n",
        "\n",
        "# Convert the list of rows into a DataFrame\n",
        "df = pd.DataFrame(data_rows)\n",
        "\n",
        "# Display the DataFrame\n",
        "print(df)\n"
      ]
    }
  ]
}