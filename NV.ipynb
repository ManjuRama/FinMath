{
  "nbformat": 4,
  "nbformat_minor": 0,
  "metadata": {
    "colab": {
      "provenance": [],
      "authorship_tag": "ABX9TyNJ4LR1C+5TKyIAaMmohoYt",
      "include_colab_link": true
    },
    "kernelspec": {
      "name": "python3",
      "display_name": "Python 3"
    },
    "language_info": {
      "name": "python"
    }
  },
  "cells": [
    {
      "cell_type": "markdown",
      "metadata": {
        "id": "view-in-github",
        "colab_type": "text"
      },
      "source": [
        "<a href=\"https://colab.research.google.com/github/ManjuRama/FinMath/blob/main/NV.ipynb\" target=\"_parent\"><img src=\"https://colab.research.google.com/assets/colab-badge.svg\" alt=\"Open In Colab\"/></a>"
      ]
    },
    {
      "cell_type": "code",
      "execution_count": null,
      "metadata": {
        "id": "cz1PnRtcDHSD"
      },
      "outputs": [],
      "source": [
        "import pandas as pd\n",
        "\n",
        "# Define the file path\n",
        "file_path = \"your_file.txt\"  # Replace with the path to your file\n",
        "\n",
        "# Initialize a list to store the rows of data\n",
        "data_rows = []\n",
        "current_row = {}\n",
        "\n",
        "# Open and read the file\n",
        "with open(file_path, 'r') as file:\n",
        "    for line in file:\n",
        "        line = line.strip()\n",
        "\n",
        "        # Check if the line contains a colon (indicating a name-value pair)\n",
        "        if ':' in line:\n",
        "            # Split the line into name and value at the first colon\n",
        "            name, value = line.split(\":\", 1)\n",
        "            name = name.strip()\n",
        "            value = value.strip()\n",
        "\n",
        "            # If we encounter a new ISIN, start a new row\n",
        "            if name == \"ISIN\":\n",
        "                # Append the current row to data_rows if it's not empty\n",
        "                if current_row:\n",
        "                    data_rows.append(current_row)\n",
        "\n",
        "                # Start a new row with the ISIN\n",
        "                current_row = {\"ISIN\": value}\n",
        "            else:\n",
        "                # Otherwise, add the name-value pair to the current row\n",
        "                current_row[name] = value\n",
        "\n",
        "    # Append the last row after finishing the loop\n",
        "    if current_row:\n",
        "        data_rows.append(current_row)\n",
        "\n",
        "# Convert the list of rows into a Pandas DataFrame\n",
        "df = pd.DataFrame(data_rows)\n",
        "\n",
        "# Display the DataFrame\n",
        "print(df)\n"
      ]
    }
  ]
}