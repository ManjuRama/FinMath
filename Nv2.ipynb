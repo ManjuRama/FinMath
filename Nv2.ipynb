{
  "nbformat": 4,
  "nbformat_minor": 0,
  "metadata": {
    "colab": {
      "provenance": [],
      "authorship_tag": "ABX9TyPwQVz1uOXFvs/wg45zi2Xu",
      "include_colab_link": true
    },
    "kernelspec": {
      "name": "python3",
      "display_name": "Python 3"
    },
    "language_info": {
      "name": "python"
    }
  },
  "cells": [
    {
      "cell_type": "markdown",
      "metadata": {
        "id": "view-in-github",
        "colab_type": "text"
      },
      "source": [
        "<a href=\"https://colab.research.google.com/github/ManjuRama/FinMath/blob/main/Nv2.ipynb\" target=\"_parent\"><img src=\"https://colab.research.google.com/assets/colab-badge.svg\" alt=\"Open In Colab\"/></a>"
      ]
    },
    {
      "cell_type": "code",
      "execution_count": null,
      "metadata": {
        "id": "cz1PnRtcDHSD"
      },
      "outputs": [],
      "source": [
        "import pandas as pd\n",
        "\n",
        "# Define the file path\n",
        "file_path = \"your_file.txt\"  # Replace with your actual file path\n",
        "\n",
        "# Initialize a list to store rows of data\n",
        "data_rows = []\n",
        "current_row = {}\n",
        "current_name = None\n",
        "current_value = []\n",
        "\n",
        "# Open and read the file\n",
        "with open(file_path, 'r') as file:\n",
        "    for line in file:\n",
        "        line = line.strip()\n",
        "\n",
        "        # Check if the line contains a colon (indicating a new name-value pair)\n",
        "        if ':' in line:\n",
        "            # If we're already processing an attribute, save the current attribute\n",
        "            if current_name:\n",
        "                current_row[current_name] = ' '.join(current_value).strip()\n",
        "\n",
        "            # Split the line into name and value at the first colon\n",
        "            name, value = line.split(\":\", 1)\n",
        "            name = name.strip()\n",
        "            value = value.strip()\n",
        "\n",
        "            # If the name is ISIN, it indicates the start of a new row\n",
        "            if name == \"ISIN\":\n",
        "                # If there's already data in current_row, save it as a new row\n",
        "                if current_row:\n",
        "                    data_rows.append(current_row)\n",
        "                # Start a new row\n",
        "                current_row = {\"ISIN\": value}\n",
        "            else:\n",
        "                # Otherwise, set up the new name and start collecting the value\n",
        "                current_name = name\n",
        "                current_value = [value]\n",
        "        else:\n",
        "            # For lines without a colon, append to the current attribute's value\n",
        "            current_value.append(line)\n",
        "\n",
        "    # Append the last attribute and row after finishing the loop\n",
        "    if current_name:\n",
        "        current_row[current_name] = ' '.join(current_value).strip()\n",
        "    if current_row:\n",
        "        data_rows.append(current_row)\n",
        "\n",
        "# Convert the list of rows into a Pandas DataFrame\n",
        "df = pd.DataFrame(data_rows)\n",
        "\n",
        "# Display the DataFrame\n",
        "print(df)\n"
      ]
    }
  ]
}