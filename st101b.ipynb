{
  "nbformat": 4,
  "nbformat_minor": 0,
  "metadata": {
    "colab": {
      "provenance": [],
      "authorship_tag": "ABX9TyMyrUYnCZKaIQOGzJlzKFAA",
      "include_colab_link": true
    },
    "kernelspec": {
      "name": "python3",
      "display_name": "Python 3"
    },
    "language_info": {
      "name": "python"
    }
  },
  "cells": [
    {
      "cell_type": "markdown",
      "metadata": {
        "id": "view-in-github",
        "colab_type": "text"
      },
      "source": [
        "<a href=\"https://colab.research.google.com/github/ManjuRama/FinMath/blob/main/st101b.ipynb\" target=\"_parent\"><img src=\"https://colab.research.google.com/assets/colab-badge.svg\" alt=\"Open In Colab\"/></a>"
      ]
    },
    {
      "cell_type": "code",
      "execution_count": null,
      "metadata": {
        "id": "ZdpVsCzFpVgW"
      },
      "outputs": [],
      "source": [
        "import time\n",
        "import pandas as pd\n",
        "import streamlit as st\n",
        "\n",
        "# Sample data for demonstration\n",
        "data = pd.DataFrame({\n",
        "    \"options\": [\"apple\", \"banana\", \"grape\", \"orange\", \"melon\", \"watermelon\", \"kiwi\", \"pineapple\", \"strawberry\", \"blueberry\"]\n",
        "})\n",
        "\n",
        "# Sample processed file names\n",
        "processed_files = [f\"file_{i}.txt\" for i in range(1, 21)]  # 20 sample file names\n",
        "\n",
        "# Set up the title of the app with the new application name\n",
        "st.title(\"InsightFlow\")\n",
        "\n",
        "# Sidebar layout with menu for 'Home' and 'Settings'\n",
        "st.sidebar.header(\"Navigation\")\n",
        "menu_option = st.sidebar.selectbox(\"Select a page\", [\"Home\", \"Settings\"])\n",
        "\n",
        "# CSS for setting background image\n",
        "st.markdown(\n",
        "    \"\"\"\n",
        "\n",
        "    \"\"\",\n",
        "    unsafe_allow_html=True\n",
        ")\n",
        "\n",
        "if menu_option == \"Home\":\n",
        "    # Home page layout\n",
        "    st.sidebar.header(\"Input Section\")\n",
        "\n",
        "    # Incremental search: Filter options based on user input\n",
        "    user_input = st.sidebar.text_input(\"Enter something:\")\n",
        "    filtered_options = data[data[\"options\"].str.contains(user_input, case=False, na=False)][\"options\"].tolist()\n",
        "\n",
        "    # Show dropdown with filtered options\n",
        "    selected_option = st.sidebar.selectbox(\"Select from filtered options:\", filtered_options)\n",
        "\n",
        "    # Expander to show additional details\n",
        "    with st.sidebar.expander(\"Show Details\"):\n",
        "        st.write(\"\"\"\n",
        "        InsightFlow takes input from the user and displays outputs in three different tabs.\n",
        "        Please enter your text and click Submit to see the results.\n",
        "        \"\"\")\n",
        "\n",
        "    # Submit button\n",
        "    if st.sidebar.button(\"Submit\"):\n",
        "        # Simulate a time delay with a progress bar\n",
        "        with st.spinner(\"Processing...\"):\n",
        "            progress_bar = st.progress(0)\n",
        "            for i in range(100):\n",
        "                time.sleep(0.03)  # Simulating a processing time\n",
        "                progress_bar.progress(i + 1)\n",
        "            progress_bar.empty()\n",
        "\n",
        "        # Right side layout for tabbed display\n",
        "        tab1, tab2, tab3 = st.tabs([\"Output 1\", \"Output 2\", \"Processed Files\"])\n",
        "\n",
        "        # Apply background class to main output area\n",
        "        with st.container():\n",
        "            st.markdown('', unsafe_allow_html=True)\n",
        "\n",
        "            # Display output in each tab\n",
        "            with tab1:\n",
        "                st.write(f\"Output 1 for input: {selected_option}\")\n",
        "\n",
        "            with tab2:\n",
        "                st.write(f\"Output 2 for input: {selected_option}\")\n",
        "\n",
        "            with tab3:\n",
        "                # Display processed files in a pane-friendly format\n",
        "                st.write(f\"Total files processed: {len(processed_files)}\")\n",
        "                for file in processed_files:\n",
        "                    with st.expander(file):  # Use an expander for each file to support long text\n",
        "                        st.write(f\"Details about {file}: Lorem ipsum dolor sit amet, consectetur adipiscing elit...\")  # Placeholder text\n",
        "\n",
        "            st.markdown('', unsafe_allow_html=True)\n",
        "\n",
        "    else:\n",
        "        st.write(\"Enter text on the left and click Submit to see the output.\")\n",
        "\n",
        "elif menu_option == \"Settings\":\n",
        "    # Settings page layout\n",
        "    st.header(\"Settings\")\n",
        "    st.write(\"Here you can adjust application settings.\")\n",
        "    st.write(\"This section can include options like theme selection, input configurations, or other customizable settings.\")\n"
      ]
    }
  ]
}